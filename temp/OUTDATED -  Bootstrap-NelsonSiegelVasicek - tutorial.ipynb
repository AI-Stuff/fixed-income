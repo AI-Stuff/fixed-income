{
 "cells": [
  {
   "cell_type": "code",
   "execution_count": 1,
   "metadata": {},
   "outputs": [],
   "source": [
    "import pandas as pd\n",
    "import numpy as np\n",
    "import matplotlib.pyplot as plt\n",
    "from scipy import optimize\n",
    "%matplotlib inline\n"
   ]
  },
  {
   "cell_type": "markdown",
   "metadata": {},
   "source": [
    "# RSM2310 - Fixed income securities\n",
    "This notebook covers interpolation,bootstrapping,interpolation using Nelson Siegel model, and the implementation of the Vasicek model."
   ]
  },
  {
   "cell_type": "markdown",
   "metadata": {},
   "source": [
    "## Load data and pre process:\n",
    "The csv file data.csv contains the historical rates for a set of trasury bonds."
   ]
  },
  {
   "cell_type": "code",
   "execution_count": 2,
   "metadata": {},
   "outputs": [],
   "source": [
    "def load_data():\n",
    "    data = pd.read_csv('data.csv')\n",
    "    data = data.set_index('Time Period')\n",
    "\n",
    "    NDs=[]\n",
    "    count =0\n",
    "    for i in data.index:\n",
    "        if 'ND'== data.loc[i][1]:\n",
    "            NDs.append(i)\n",
    "            count += 1\n",
    "    print(\"Excluded {} NDs\".format(count))\n",
    "    print(\"{}% of the total\".format(100*round(count/data.shape[0],2)))\n",
    "    data_ = data.applymap(f).copy()\n",
    "    data_ = data_[data_['RIFLGFCM06_N.B']>0] # keeping only data with at least one strip\n",
    "    data_ = data_.loc['7/31/2001':]\n",
    "    return data,data_"
   ]
  },
  {
   "cell_type": "code",
   "execution_count": 3,
   "metadata": {},
   "outputs": [],
   "source": [
    "def f(x):\n",
    "    try:\n",
    "        return float(x)/100\n",
    "    except:\n",
    "        return np.nan"
   ]
  },
  {
   "cell_type": "code",
   "execution_count": 4,
   "metadata": {},
   "outputs": [
    {
     "name": "stdout",
     "output_type": "stream",
     "text": [
      "Excluded 391 NDs\n",
      "3.0% of the total\n"
     ]
    }
   ],
   "source": [
    "data,data_ = load_data()"
   ]
  },
  {
   "cell_type": "markdown",
   "metadata": {},
   "source": [
    "## Bootstrapping class:"
   ]
  },
  {
   "cell_type": "code",
   "execution_count": 8,
   "metadata": {},
   "outputs": [],
   "source": [
    "'''\n",
    "def fadjust(y,T):\n",
    "    x = np.isnan(y)\n",
    "    T_ = []\n",
    "    y_ = []\n",
    "    for i in np.arange(len(y)):\n",
    "        if x[i]==False:\n",
    "            T_.append(T[i])\n",
    "            y_.append(y[i])\n",
    "    return np.array(y_),np.array(T_)\n",
    "    '''\n",
    "\n",
    "def getStrips(y,T):\n",
    "    rn = {}\n",
    "    for i in np.arange(len(y)):\n",
    "        if T[i]<0.5:\n",
    "            rn[T[i]]=y[i]\n",
    "    if len(rn.keys())==0:\n",
    "        print(\"No strips retrieved!\")\n",
    "    return rn\n",
    "\n"
   ]
  },
  {
   "cell_type": "code",
   "execution_count": 20,
   "metadata": {},
   "outputs": [],
   "source": [
    "class Bootstrapping():\n",
    "    def __init__(self,F=100,cf=2):\n",
    "        self.F = F\n",
    "        self.cf = cf\n",
    "        \n",
    "    def getStrips(self,y,T):\n",
    "        rn = {}\n",
    "        for i in np.arange(len(y)):\n",
    "            if T[i]<0.5:\n",
    "                rn[T[i]]=y[i]\n",
    "        if len(rn.keys())==0:\n",
    "            print(\"No strips retrieved!\")\n",
    "        return rn\n",
    "   \n",
    "    def fadjust(self,y,T):\n",
    "        x = np.isnan(y)\n",
    "        T_ = []\n",
    "        y_ = []\n",
    "        for i in np.arange(len(y)):\n",
    "            if x[i]==False:\n",
    "                T_.append(T[i])\n",
    "                y_.append(y[i])\n",
    "        return np.array(y_),np.array(T_)\n",
    "   \n",
    "    def interpol(self,y,T_):\n",
    "        self.y=y        \n",
    "        self.T = np.arange(0.5,30.5,0.5)\n",
    "        N = self.cf*self.T\n",
    "        self.N = [int(x) for x in N]\n",
    "        self.yn = np.interp(self.T,T_,y)\n",
    "        self.rn = self.getStrips(y,T_) \n",
    "    \n",
    "        \n",
    "        if len(self.y)>4:      \n",
    "            self.seed = [self.y[-1],self.y[0]-self.y[-1],self.y[1],self.y[2]]\n",
    "        else:\n",
    "            self.seed = [self.y[-1],self.y[0]-self.y[-1],self.y[1],self.y[2]]\n",
    "    \n",
    "    def get_price(self,y,T):\n",
    "        C = y*self.F\n",
    "        N = T*self.cf\n",
    "        pv = 0\n",
    "        for n in np.arange(N):\n",
    "            pv += C/(1+y)**n\n",
    "        pv += self.F/(1+y)**N\n",
    "        return pv\n",
    "    \n",
    "    def solve(self,y,T_):      \n",
    "        self.interpol(y,T_)\n",
    "        for i in self.N:\n",
    "            C = self.yn[i-2]*self.F/2\n",
    "            rate_sum = self.get_price(self.yn[i-2],i/self.cf) \n",
    "            for j in np.arange(0.5,i/self.cf,0.5):\n",
    "                rate_sum -= C*((1+self.rn[j]/self.cf)**(-j))\n",
    "            self.rn[i/self.cf] = (((self.F+C)/rate_sum)**(1/i)-1)*2 \n",
    "            \n",
    "    def plot(self):\n",
    "        d = pd.DataFrame.from_dict(self.rn,orient='index')\n",
    "        d.plot(kind='scatter')\n",
    "\n",
    "        "
   ]
  },
  {
   "cell_type": "markdown",
   "metadata": {},
   "source": [
    "## Nelson Siegel Class\n",
    "\n",
    "The Nelon Siegel model follow the equation:\n",
    "\n",
    "\\begin{equation}\n",
    "R(0,t) = \\beta_0 + \\beta_1 \\frac{1-e^{(\\frac{-t}{T})}}{t/T} + \\beta_2  (\\frac{1-e^{(\\frac{-t}{T})}}{t/T} -e^{\\frac{-t}{T}})\n",
    "\\end{equation}\n",
    "\n",
    "Where:\n",
    "\n",
    "-  $R(0,t)$: pure discount rate with maturity t\n",
    "-  $\\beta_0$: level parameter, the long term rate\n",
    "-  $\\beta_1$: slope parameter, the spread short/long-term\n",
    "-  $\\beta_2$: curvature parameter\n",
    "-  $T$: scale parameter\n",
    "\n"
   ]
  },
  {
   "cell_type": "code",
   "execution_count": 10,
   "metadata": {},
   "outputs": [],
   "source": [
    "class NelsonSiegel():\n",
    "    def __init__(self,rn):\n",
    "        self.rn = rn\n",
    "        \n",
    "    def NS(self,w):\n",
    "        rn = self.rn\n",
    "        if type(self.rn)==dict:\n",
    "            t = np.array(list(rn.keys()))\n",
    "        else:\n",
    "            t = self.rn\n",
    "\n",
    "        A = [np.ones(t.shape[0]),(1-np.exp(-t/w[3]))/(t/w[3]),(1-np.exp(-t/w[3]))/(t/w[3])-np.exp(-t/w[3])]\n",
    "\n",
    "        Ax = w[:3].dot(A)\n",
    "        return Ax\n",
    "\n",
    "    def loss(self,w):\n",
    "        Ax = self.NS(w)\n",
    "        rn = self.rn\n",
    "        y = np.array(list(rn.values()))\n",
    "        error = y - Ax\n",
    "        Loss = np.sum(error**2)\n",
    "        return Loss\n",
    "    \n",
    "    def get_w(self,x0):\n",
    "        self.opt_results = optimize.minimize(self.loss,x0=x0,method='BFGS')\n",
    "        return self.opt_results.x\n",
    "    \n",
    "    def plot_termS(self):\n",
    "        termS = self.NS(self.opt_results.x)\n",
    "        plt.plot(termS)\n",
    "    \n",
    "\n",
    "            "
   ]
  },
  {
   "cell_type": "code",
   "execution_count": 80,
   "metadata": {},
   "outputs": [],
   "source": [
    "from scipy.interpolate import CubicSpline\n",
    "\n",
    "class TermStructure(NelsonSiegel,Bootstrapping):\n",
    "    def __init__(self):\n",
    "        pass\n",
    "    \n",
    "    def Boot(self,y,T_,F=100,cf=2):\n",
    "        self.F = F\n",
    "        self.cf = cf\n",
    "        self.solve(y,T_)\n",
    "        \n",
    "        \n",
    "    def fitCubic(self,data_):\n",
    "        cspline={}\n",
    "        self.date = np.empty((0,1))\n",
    "        count = 0\n",
    "        num_of_days = 4000\n",
    "        for day in data_.index[-num_of_days:]:\n",
    "            T_ = [1/12,0.25,0.5,1,2,3,5,7,10,20,30]\n",
    "            day1 = data_.loc[day]\n",
    "            y = day1.as_matrix().flatten()\n",
    "            y,T_ = self.fadjust(y,T_)\n",
    "            rn = getStrips(y,T_)\n",
    "            if rn.keys()==0:\n",
    "                print('no rn?')\n",
    "                continue\n",
    "            self.Boot(y,T_)\n",
    "            \n",
    "            cspline[day1]= CubicSpline(T_,y)\n",
    "            \n",
    "            count +=1\n",
    "            if count%100==0:\n",
    "                print(\"Percent concluded: {}%\".format(100*count/num_of_days))\n",
    "        self.date = pd.to_datetime(self.date)\n",
    "        self.Results = cspline\n",
    "        \n",
    "    \n",
    "    def fitNS(self,data_):\n",
    "        \n",
    "        NScoef = np.empty((0,4))\n",
    "        self.date = np.empty((0,1))\n",
    "        count = 0\n",
    "        num_of_days = 4000\n",
    "        for day in data_.index[-num_of_days:]:\n",
    "            T_ = [1/12,0.25,0.5,1,2,3,5,7,10,20,30]\n",
    "            day1 = data_.loc[day]\n",
    "            y = day1.as_matrix().flatten()\n",
    "            y,T_ = self.fadjust(y,T_)\n",
    "            rn = getStrips(y,T_)\n",
    "            if rn.keys()==0:\n",
    "                print('no rn?')\n",
    "                continue\n",
    "            self.Boot(y,T_)\n",
    "            self.wmin = self.get_w(self.seed)\n",
    "            \n",
    "            NScoef = np.append(NScoef,[self.wmin],axis=0)\n",
    "            self.date = np.append(self.date,[day])\n",
    "            count +=1\n",
    "            if count%100==0:\n",
    "                print(\"Percent concluded: {}%\".format(100*count/num_of_days))\n",
    "        self.date = pd.to_datetime(self.date)\n",
    "        self.Results = pd.DataFrame(data=NScoef,index=self.date)\n",
    "        self.Results.plot()\n",
    "        self.NScoef = NScoef\n",
    "    \n",
    "    def make_ps(self,t,plot=0):\n",
    "        w_ = self.NScoef\n",
    "        r = []\n",
    "        for x in np.arange(len(w_)):\n",
    "            w = w_[x]\n",
    "\n",
    "            A = np.array([np.ones(t.shape[0]),(1-np.exp(-t/w[3]))/(t/w[3]),(1-np.exp(-t/w[3]))/(t/w[3])-np.exp(-t/w[3])])\n",
    "\n",
    "            r.append(w[:3].dot(A))\n",
    "        self.ps=pd.DataFrame(data=np.vstack(r),columns=t,index=self.date)\n",
    "        if plot==1:\n",
    "            self.ps.plot(title='Projected Term Structure',figsize=(10,6));\n",
    "        pass\n",
    "         "
   ]
  },
  {
   "cell_type": "code",
   "execution_count": 81,
   "metadata": {},
   "outputs": [
    {
     "ename": "TypeError",
     "evalue": "'Series' objects are mutable, thus they cannot be hashed",
     "output_type": "error",
     "traceback": [
      "\u001b[0;31m---------------------------------------------------------------------------\u001b[0m",
      "\u001b[0;31mTypeError\u001b[0m                                 Traceback (most recent call last)",
      "\u001b[0;32m<ipython-input-81-f350ee305c78>\u001b[0m in \u001b[0;36m<module>\u001b[0;34m()\u001b[0m\n\u001b[1;32m      1\u001b[0m \u001b[0mTS\u001b[0m \u001b[0;34m=\u001b[0m \u001b[0mTermStructure\u001b[0m\u001b[0;34m(\u001b[0m\u001b[0;34m)\u001b[0m\u001b[0;34m\u001b[0m\u001b[0m\n\u001b[0;32m----> 2\u001b[0;31m \u001b[0mTS\u001b[0m\u001b[0;34m.\u001b[0m\u001b[0mfitCubic\u001b[0m\u001b[0;34m(\u001b[0m\u001b[0mdata_\u001b[0m\u001b[0;34m)\u001b[0m\u001b[0;34m\u001b[0m\u001b[0m\n\u001b[0m",
      "\u001b[0;32m<ipython-input-80-80726023939c>\u001b[0m in \u001b[0;36mfitCubic\u001b[0;34m(self, data_)\u001b[0m\n\u001b[1;32m     29\u001b[0m \u001b[0;34m\u001b[0m\u001b[0m\n\u001b[1;32m     30\u001b[0m \u001b[0;34m\u001b[0m\u001b[0m\n\u001b[0;32m---> 31\u001b[0;31m             \u001b[0mcspline\u001b[0m\u001b[0;34m[\u001b[0m\u001b[0mday1\u001b[0m\u001b[0;34m]\u001b[0m\u001b[0;34m=\u001b[0m \u001b[0mcs\u001b[0m\u001b[0;34m\u001b[0m\u001b[0m\n\u001b[0m\u001b[1;32m     32\u001b[0m \u001b[0;34m\u001b[0m\u001b[0m\n\u001b[1;32m     33\u001b[0m             \u001b[0mcount\u001b[0m \u001b[0;34m+=\u001b[0m\u001b[0;36m1\u001b[0m\u001b[0;34m\u001b[0m\u001b[0m\n",
      "\u001b[0;32m~/anaconda3/envs/py36/lib/python3.6/site-packages/pandas/core/generic.py\u001b[0m in \u001b[0;36m__hash__\u001b[0;34m(self)\u001b[0m\n\u001b[1;32m   1043\u001b[0m     \u001b[0;32mdef\u001b[0m \u001b[0m__hash__\u001b[0m\u001b[0;34m(\u001b[0m\u001b[0mself\u001b[0m\u001b[0;34m)\u001b[0m\u001b[0;34m:\u001b[0m\u001b[0;34m\u001b[0m\u001b[0m\n\u001b[1;32m   1044\u001b[0m         raise TypeError('{0!r} objects are mutable, thus they cannot be'\n\u001b[0;32m-> 1045\u001b[0;31m                         ' hashed'.format(self.__class__.__name__))\n\u001b[0m\u001b[1;32m   1046\u001b[0m \u001b[0;34m\u001b[0m\u001b[0m\n\u001b[1;32m   1047\u001b[0m     \u001b[0;32mdef\u001b[0m \u001b[0m__iter__\u001b[0m\u001b[0;34m(\u001b[0m\u001b[0mself\u001b[0m\u001b[0;34m)\u001b[0m\u001b[0;34m:\u001b[0m\u001b[0;34m\u001b[0m\u001b[0m\n",
      "\u001b[0;31mTypeError\u001b[0m: 'Series' objects are mutable, thus they cannot be hashed"
     ]
    }
   ],
   "source": [
    "TS = TermStructure()\n",
    "TS.fitCubic(data_)"
   ]
  },
  {
   "cell_type": "markdown",
   "metadata": {},
   "source": [
    "## Use NelsonSiegel class to retieve the term structure using NScoef's"
   ]
  },
  {
   "cell_type": "code",
   "execution_count": 62,
   "metadata": {},
   "outputs": [],
   "source": [
    "t = np.arange(1/12,30+1/12,1/12)\n",
    "ps = TS.make_ps(t,plot=0)\n"
   ]
  },
  {
   "cell_type": "code",
   "execution_count": 68,
   "metadata": {},
   "outputs": [
    {
     "data": {
      "text/plain": [
       "Index(['RIFLGFCM01_N.B', 'RIFLGFCM03_N.B', 'RIFLGFCM06_N.B', 'RIFLGFCY01_N.B',\n",
       "       'RIFLGFCY02_N.B', 'RIFLGFCY03_N.B', 'RIFLGFCY05_N.B', 'RIFLGFCY07_N.B',\n",
       "       'RIFLGFCY10_N.B', 'RIFLGFCY20_N.B', 'RIFLGFCY30_N.B'],\n",
       "      dtype='object')"
      ]
     },
     "execution_count": 68,
     "metadata": {},
     "output_type": "execute_result"
    }
   ],
   "source": [
    "data_.columns"
   ]
  },
  {
   "cell_type": "code",
   "execution_count": 75,
   "metadata": {},
   "outputs": [
    {
     "data": {
      "text/plain": [
       "<matplotlib.legend.Legend at 0x7fe049cc5160>"
      ]
     },
     "execution_count": 75,
     "metadata": {},
     "output_type": "execute_result"
    },
    {
     "data": {
      "image/png": "[encoded data removed]",
      "text/plain": [
       "<matplotlib.figure.Figure at 0x7fe049d6e2b0>"
      ]
     },
     "metadata": {},
     "output_type": "display_data"
    }
   ],
   "source": [
    "T_ = np.array([1/12,0.25,0.5,1,2,3,5,7,10,20,30])\n",
    "\n",
    "plt.plot(TS.ps[-1:].as_matrix().flatten(),label='NS')\n",
    "plt.plot(T_*12,data_[-1:].as_matrix().flatten(),label='CBond')\n",
    "plt.legend()"
   ]
  },
  {
   "cell_type": "markdown",
   "metadata": {},
   "source": [
    "# Vasicek class: solve for model coeficients\n",
    "\n",
    "Vasicek's model parameters can be solved by minimzing the loss function:\n",
    "\n",
    "\\begin{equation}\n",
    "loss = \\sum{\\frac{1}{N}(P-P(0,T))^2} \n",
    "\\end{equation}\n",
    "\n",
    "The model for $P(0,T)$ is given by the following relations:\n",
    "\n",
    "\\begin{equation}\n",
    "P(0,T) = A(T) exp^{-B(T)r_0}\n",
    "\\end{equation}\n",
    "<br>\n",
    "\\begin{equation}\n",
    "A(T) = exp{{\\frac{(B(T)-T)(a^2b-\\frac{\\sigma^2}{2})}{a^2}}-\\frac{\\sigma^2B^2(T)}{4a}}\n",
    "\\end{equation}\n",
    "<br>\n",
    "\\begin{equation}\n",
    "B(T) = \\frac{1-e^{-aT}}{a}\n",
    "\\end{equation}\n",
    "\n",
    "The class Vasicek has this model implemented. It requires a time series with NelsonSiegel coeficients and the historical spot rates at a given set of maturities (ps). We use the method get_ps() on the previous cell to extract ps using NS."
   ]
  },
  {
   "cell_type": "code",
   "execution_count": 45,
   "metadata": {},
   "outputs": [],
   "source": [
    "class Vasicek():\n",
    "    def __init__(self,NScoef,ps):\n",
    "        self.t = np.array([1/12,0.25,0.5,1.0,2.0,3.0,5.0,7.0,10.0,20.0,30.0])\n",
    "        self.NScoef = NScoef\n",
    "        self.build_TS(NScoef)\n",
    "        self.ps=ps\n",
    "        self.sigma = np.std(ps)*np.sqrt(252)\n",
    "        \n",
    "    def build_TS(self,NScoef):\n",
    "        t = self.t\n",
    "        Nsiegel = NelsonSiegel(t)\n",
    "        result = []\n",
    "        for i in range(len(NScoef)):\n",
    "            result.append(Nsiegel.NS(NScoef[i]))\n",
    "        self.X = np.vstack(result)\n",
    "        pass\n",
    "    \n",
    "    def Bt(self,t):\n",
    "        a = self.a\n",
    "        return 1-np.exp(-a*self.t)/a\n",
    "    \n",
    "    def get_AB(self):\n",
    "        sigma = self.sigma\n",
    "        x = self.t\n",
    "        a = self.a\n",
    "        b = self.b\n",
    "        B = self.Bt(x)\n",
    "        A = np.exp(((B-x)*(a**2*b-(sigma**2)/2))/a**2-(sigma**2*B**2)/(4*a))\n",
    "        self.B=B\n",
    "        self.A=A\n",
    "        pass\n",
    "    \n",
    "    def get_P(self,r):\n",
    "        A = self.A\n",
    "        B = self.B\n",
    "        b = np.exp(-np.multiply(B,r))\n",
    "        return np.multiply(A,b)\n",
    "    \n",
    "    def loss(self,x):\n",
    "        self.a = x[0]\n",
    "        self.b = x[1]\n",
    "        self.get_AB()\n",
    "        sim_p = pd.DataFrame(self.X).apply(self.get_P,axis=1)\n",
    "        p = 100/(self.ps+1)**self.t\n",
    "        loss = np.array(p)-np.array(sim_p)\n",
    "        size = loss.shape\n",
    "        N = size[0]*size[1]\n",
    "        loss = np.sum(loss**2)/N\n",
    "        return loss\n",
    "    \n",
    "    def solve(self,x0=[1,1]):\n",
    "        self.opt_results = optimize.minimize(self.loss,x0=x0,method='BFGS')\n",
    "        self.a = self.opt_results.x[0]\n",
    "        self.b = self.opt_results.x[1]\n",
    "        print(self.opt_results)\n",
    "    \n",
    "    def price(self,T,r):\n",
    "        dic = dict(zip(self.t,self.sigma))\n",
    "        sigma = dic[T]\n",
    "        a = self.a\n",
    "        b = self.b\n",
    "        B = 1-np.exp(-a*T)/a\n",
    "        A = np.exp(((B-T)*(a**2*b-(sigma**2)/2))/a**2)-(sigma**2*B**2)/(4*a)\n",
    "        return A*np.exp(-B*r)\n",
    "\n",
    "    def rate(self,T,p):\n",
    "        dic = dict(zip(self.t,self.sigma))\n",
    "        sigma = dic[T]\n",
    "        a = self.a\n",
    "        b = self.b\n",
    "        B = 1-np.exp(-a*T)/a\n",
    "        A = np.exp(((B-T)*(a**2*b-(sigma**2)/2))/a**2)-(sigma**2*B**2)/(4*a)\n",
    "        return -1*np.log(p/A)/B\n"
   ]
  },
  {
   "cell_type": "code",
   "execution_count": 46,
   "metadata": {},
   "outputs": [
    {
     "name": "stdout",
     "output_type": "stream",
     "text": [
      "      fun: 5220.2423593841695\n",
      " hess_inv: array([[ 0.00549664, -0.01135545],\n",
      "       [-0.01135545,  0.02419964]])\n",
      "      jac: array([0., 0.])\n",
      "  message: 'Optimization terminated successfully.'\n",
      "     nfev: 184\n",
      "      nit: 22\n",
      "     njev: 46\n",
      "   status: 0\n",
      "  success: True\n",
      "        x: array([2.50706207, 8.11899077])\n"
     ]
    }
   ],
   "source": [
    "V = Vasicek(TS.NScoef,TS.ps)\n",
    "V.solve()"
   ]
  },
  {
   "cell_type": "code",
   "execution_count": 47,
   "metadata": {},
   "outputs": [
    {
     "data": {
      "text/plain": [
       "-5.250495354502625e-05"
      ]
     },
     "execution_count": 47,
     "metadata": {},
     "output_type": "execute_result"
    }
   ],
   "source": [
    "V.price(30,0.01)"
   ]
  },
  {
   "cell_type": "markdown",
   "metadata": {},
   "source": [
    "Pending improvement: std rolling window, or period options. Way to do sensitivity analysis."
   ]
  }
 ],
 "metadata": {
  "kernelspec": {
   "display_name": "Python 3",
   "language": "python",
   "name": "python3"
  },
  "language_info": {
   "codemirror_mode": {
    "name": "ipython",
    "version": 3
   },
   "file_extension": ".py",
   "mimetype": "text/x-python",
   "name": "python",
   "nbconvert_exporter": "python",
   "pygments_lexer": "ipython3",
   "version": "3.6.4"
  }
 },
 "nbformat": 4,
 "nbformat_minor": 2
}
