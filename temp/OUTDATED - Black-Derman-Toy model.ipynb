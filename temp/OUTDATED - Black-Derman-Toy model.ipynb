{
 "cells": [
  {
   "cell_type": "code",
   "execution_count": 1,
   "metadata": {},
   "outputs": [],
   "source": [
    "import numpy as np\n",
    "import math\n",
    "from scipy import optimize\n",
    "from IPython import display as dp\n",
    "import pylab as pl"
   ]
  },
  {
   "cell_type": "markdown",
   "metadata": {},
   "source": [
    "## Background\n",
    "\n",
    "The values in the short rate lattice are of the form $r_{ks}=a_ke^{b_ks}$\n",
    "\n",
    "k is the time (0,1..n)\n",
    "s is the state (0,1...k)\n",
    "$a_k$ is a measure of aggregate drift, asigned to match the implied term structure\n",
    "$b_k$ is the volatility of the logarithim of the short rate from time k-1 to k"
   ]
  },
  {
   "cell_type": "markdown",
   "metadata": {},
   "source": [
    "# Short-rate-lattice trees\n",
    "\n",
    "-  Maturity T <br>\n",
    "-  Time_step \n",
    "<br>\n",
    "OBS: T/time_step must be an integer\n",
    "\n",
    "The class short_rate_lattice assemble the short-rate lattice in the form of a dictionary whose keys are the periods and values are the discount rates. The lattice can be acessed trough the attribute .sr_lattice. \n",
    "\n",
    "The build method is called at __init__, thus the class it is ready to go. However, the rates and the sigma are randomly generated. We want a procedure in which those are input variables."
   ]
  },
  {
   "cell_type": "code",
   "execution_count": 2,
   "metadata": {},
   "outputs": [],
   "source": [
    "class short_rate_lattice():\n",
    "    def __init__(self,T,time_step):\n",
    "        self.time_step = time_step\n",
    "        self.T=T\n",
    "        self.n_of_periods = T/time_step\n",
    "        self.time = np.arange(0,T,time_step)\n",
    "        self.period = np.arange(int(self.n_of_periods))\n",
    "        self.ir = np.random.rand(int(self.n_of_periods))\n",
    "        self.sigma = np.random.rand(int(self.n_of_periods))\n",
    "        self.sigma[0] = 0\n",
    "        self.build_sr()\n",
    "    def setup(self,ir,sigma):\n",
    "        self.ir = ir\n",
    "        self.sigma = sigma\n",
    "        self.build_sr()\n",
    "         \n",
    "    def build_sr(self):\n",
    "        self.sr_lattice = {}\n",
    "        for i in self.period:            \n",
    "            bin_ = self.ir[i]*np.exp(np.arange(i+1)*2*self.sigma[i]*np.sqrt(self.time_step))\n",
    "            self.sr_lattice[i]=bin_"
   ]
  },
  {
   "cell_type": "code",
   "execution_count": 3,
   "metadata": {},
   "outputs": [],
   "source": [
    "srl = short_rate_lattice(T=3,time_step=1)"
   ]
  },
  {
   "cell_type": "code",
   "execution_count": 4,
   "metadata": {},
   "outputs": [],
   "source": [
    "ir = [0.0953,0.0923,0.0940]\n",
    "sigma = [0,0.19,0.172]\n",
    "srl.setup(ir,sigma)\n",
    "srl.build_sr()"
   ]
  },
  {
   "cell_type": "code",
   "execution_count": 5,
   "metadata": {},
   "outputs": [
    {
     "data": {
      "text/plain": [
       "{0: array([0.0953]),\n",
       " 1: array([0.0923    , 0.13496887]),\n",
       " 2: array([0.094     , 0.13259439, 0.18703482])}"
      ]
     },
     "execution_count": 5,
     "metadata": {},
     "output_type": "execute_result"
    }
   ],
   "source": [
    "srl.sr_lattice"
   ]
  },
  {
   "cell_type": "markdown",
   "metadata": {},
   "source": [
    "# Binomial Trees\n",
    "\n",
    "The class tree will assemble a binomial tree with T periods whose face values at maturity are one. The FV can be alterred with the attribute FV. The method build acalculate the tree components and the price. Both can be accessed trough the attributes .tree and .p respectively.\n",
    "\n",
    "A tree requires a short-rate-lattice object."
   ]
  },
  {
   "cell_type": "code",
   "execution_count": 6,
   "metadata": {},
   "outputs": [],
   "source": [
    "class Tree():\n",
    "    def __init__(self,T,srl):\n",
    "        self.srl = srl\n",
    "        self.T = T\n",
    "        self.n_of_periods = srl.n_of_periods\n",
    "        self.period = np.arange(T)+1\n",
    "        #self.build()\n",
    "        \n",
    "    def build(self):   \n",
    "        self.tree = {}\n",
    "        self.tree[self.T]=np.ones(self.T+1)\n",
    "        for i in np.flip(self.period,axis=0):\n",
    "                       \n",
    "            self.tree[i-1] = 0.5*(self.tree[i][:-1] + np.roll(self.tree[i],shift=-1)[:-1])*np.exp(-self.srl.sr_lattice[i-1])\n",
    "            \n",
    "        self.p = self.tree[0][0]\n",
    "        self.get_vol()\n",
    "        \n",
    "        return self.p,self.vol\n",
    "        \n",
    "    def get_vol(self):\n",
    "        \n",
    "        if self.T !=1:\n",
    "            rates = np.log(self.tree[1])/(self.T-1)\n",
    "            self.vol = 0.5*np.log(rates[1]/rates[0])/np.sqrt(self.srl.time_step)\n",
    "        else:\n",
    "            self.vol = 0\n",
    "        \n",
    "        pass"
   ]
  },
  {
   "cell_type": "code",
   "execution_count": 9,
   "metadata": {},
   "outputs": [
    {
     "name": "stdout",
     "output_type": "stream",
     "text": [
      "price: 0.7087714297730028\n"
     ]
    }
   ],
   "source": [
    "Tr = Tree(3,srl)\n",
    "Tr.build()\n",
    "print('price: {}'.format(Tr.p))"
   ]
  },
  {
   "cell_type": "code",
   "execution_count": 10,
   "metadata": {},
   "outputs": [
    {
     "data": {
      "text/plain": [
       "{0: array([0.70877143]),\n",
       " 1: array([0.81431255, 0.74496872]),\n",
       " 2: array([0.91028276, 0.87582026, 0.82941486]),\n",
       " 3: array([1., 1., 1., 1.])}"
      ]
     },
     "execution_count": 10,
     "metadata": {},
     "output_type": "execute_result"
    }
   ],
   "source": [
    "Tr.tree"
   ]
  },
  {
   "cell_type": "code",
   "execution_count": 9,
   "metadata": {},
   "outputs": [
    {
     "data": {
      "text/plain": [
       "0.7937308040360631"
      ]
     },
     "execution_count": 9,
     "metadata": {},
     "output_type": "execute_result"
    }
   ],
   "source": [
    "Tr.vol"
   ]
  },
  {
   "cell_type": "markdown",
   "metadata": {},
   "source": [
    "# Building a model"
   ]
  },
  {
   "cell_type": "markdown",
   "metadata": {},
   "source": [
    "The BDT class builds a short rate tree and all required tress for the bonds wih different maturities. It is a subclass of the short_rate_lattice and Tree classes. The method loss calculates the loss given a interest rate(ir) and volatility(vol) series.\n",
    "\n",
    "Ex. 3 year maturity, with a time step of one year.\n",
    "<br> Market_Data = {'Price': [0.9091,0.8116,0.7118],'Vol':[0,.19,.18]}\n",
    "\n",
    "\n",
    "Here I am experimenting with multiprocessing in python:\n",
    "http://sebastianraschka.com/Articles/2014_multiprocessing.html\n",
    "http://kmdouglass.github.io/posts/learning-pythons-multiprocessing-module.html"
   ]
  },
  {
   "cell_type": "code",
   "execution_count": 11,
   "metadata": {},
   "outputs": [],
   "source": [
    "T = 3\n",
    "time_step=1\n",
    "mkt_data = {'Price': [0.9091,0.8116,0.7118],'Vol':[0,.19,.18]}"
   ]
  },
  {
   "cell_type": "code",
   "execution_count": 22,
   "metadata": {},
   "outputs": [],
   "source": [
    "import multiprocessing as mp\n",
    "\n",
    "class BDT(short_rate_lattice,Tree):\n",
    "    def __init__(self,T,time_step,mkt_data):\n",
    "        self.loss_bin = []\n",
    "        self.T=T\n",
    "        self.time_step = time_step\n",
    "        self.n_of_periods = T/time_step\n",
    "        self.srl = short_rate_lattice(T,time_step)\n",
    "        self.build_Trees()\n",
    "        self.mkt_data = mkt_data\n",
    "        self.random_seed()\n",
    "    \n",
    "    def random_seed(self):\n",
    "        self.ir = -1*np.divide(np.log(self.mkt_data['Price']),np.arange(self.time_step,self.T+self.time_step,self.time_step))\n",
    "        self.vols = np.array(self.mkt_data['Vol'])\n",
    "        self.vols[0] = 0\n",
    "        self.x0 = np.vstack([self.ir,self.vols])\n",
    "        \n",
    "    def build_Trees(self):\n",
    "        trees_T = np.arange(int(self.n_of_periods))+1\n",
    "        self.trees = {}\n",
    "        self.tree_prices = []\n",
    "        self.tree_vols = []        \n",
    "        \n",
    "        for i in trees_T:\n",
    "            self.trees[i]= Tree(i,self.srl)\n",
    "            \n",
    "        pool = mp.Pool(processes=6)\n",
    "        results = [pool.apply(self.trees[x].build) for x in trees_T]\n",
    "        self.tree_prices,self.tree_vols = zip(*results)\n",
    "        pool.close()\n",
    "\n",
    "            \n",
    "    def loss(self,x):\n",
    "        ir = x[:len(self.ir)]\n",
    "        vols = np.append(0,x[len(self.ir):])\n",
    "        \n",
    "        self.srl.setup(ir,vols)\n",
    "        self.build_Trees()\n",
    "                \n",
    "        ps = (np.array(self.tree_prices) - self.mkt_data['Price'])\n",
    "        vs = (np.array(self.tree_vols) - self.mkt_data['Vol'])\n",
    "        loss = np.append(ps,vs)\n",
    "        \n",
    "        loss = 1000*loss.dot(loss)\n",
    "\n",
    "        self.plot_ps(self.tree_prices,self.tree_vols)\n",
    "            \n",
    "        return loss\n",
    "    \n",
    "    def plot_loss(self,loss):\n",
    "        pl.title('Total loss')\n",
    "        pl.plot(loss)\n",
    "        dp.display(pl.gcf())\n",
    "        dp.clear_output(wait=True)\n",
    "    \n",
    "    def plot_ps(self,p,v):\n",
    "        N = np.arange(len(p))\n",
    "        pindex = np.array(p)/np.array(self.mkt_data['Price'])\n",
    "        vindex = np.array(v)/self.mkt_data['Vol']\n",
    "        pl.title('Relatives price and vol')\n",
    "        pl.plot(N,pindex,label='price')\n",
    "        pl.plot(N,vindex,label='vol')\n",
    "\n",
    "        dp.display(pl.gcf())\n",
    "        dp.clear_output(wait=True)\n",
    "        pl.gcf().clear() \n",
    "        \n",
    "    \n",
    "    def solve(self,method ='BFGS',options={},bounds=[]):\n",
    "        ir = self.ir \n",
    "        vols = self.vols \n",
    "        x0 = np.append(self.ir,self.vols[1:])\n",
    "        if method=='diff':\n",
    "            self.opt_results = differential_evolution(self.loss,bounds=bounds)\n",
    "        else:\n",
    "            self.opt_results = optimize.minimize(self.loss,x0=x0,tol=10,\n",
    "                                             method=method,bounds=bounds,options=options)\n",
    "        self.ir_op = self.opt_results.x[:len(self.ir)]\n",
    "        self.vols_op = self.opt_results.x[:len(self.ir)]\n",
    "        print(self.opt_results)"
   ]
  },
  {
   "cell_type": "code",
   "execution_count": 13,
   "metadata": {},
   "outputs": [
    {
     "name": "stdout",
     "output_type": "stream",
     "text": [
      "Optimization terminated successfully.\n",
      "         Current function value: 0.000000\n",
      "         Iterations: 12\n",
      "         Function evaluations: 133\n",
      "         Gradient evaluations: 19\n",
      "      fun: 7.847453896610579e-18\n",
      " hess_inv: array([[ 6.02924972e-04, -4.91314854e-04, -1.13426979e-05,\n",
      "         1.21556705e-06,  4.33276446e-05],\n",
      "       [-4.91314854e-04,  9.10917379e-04, -4.11376656e-04,\n",
      "        -5.49522642e-05, -7.80546404e-05],\n",
      "       [-1.13426979e-05, -4.11376656e-04,  8.85453525e-04,\n",
      "         9.01370573e-05, -3.20976821e-04],\n",
      "       [ 1.21556705e-06, -5.49522642e-05,  9.01370573e-05,\n",
      "         4.99582110e-04, -4.28702080e-04],\n",
      "       [ 4.33276446e-05, -7.80546404e-05, -3.20976821e-04,\n",
      "        -4.28702080e-04,  2.13425316e-03]])\n",
      "      jac: array([-1.71586945e-11, -3.55302694e-12, -5.54266765e-12,  7.02214934e-12,\n",
      "       -6.94754146e-12])\n",
      "  message: 'Optimization terminated successfully.'\n",
      "     nfev: 133\n",
      "      nit: 12\n",
      "     njev: 19\n",
      "   status: 0\n",
      "  success: True\n",
      "        x: array([0.09530018, 0.09233313, 0.09105672, 0.19      , 0.1717385 ])\n",
      "Concluded: BFGS\n"
     ]
    },
    {
     "data": {
      "text/plain": [
       "<matplotlib.figure.Figure at 0x7f1b62f3dcc0>"
      ]
     },
     "metadata": {},
     "output_type": "display_data"
    }
   ],
   "source": [
    "method = 'BFGS'\n",
    "options={'maxiter':50,'disp':True,'xtol':1e-10,'eps':1e-10,\n",
    "         'maxls':80,'gtol':1e-8,'ftol':1e-2}\n",
    "\n",
    "bdt = BDT(3,1,mkt_data)\n",
    "bdt.solve(method=method,options=options)\n",
    "print('Concluded: {}'.format(method))\n"
   ]
  },
  {
   "cell_type": "code",
   "execution_count": 15,
   "metadata": {},
   "outputs": [
    {
     "name": "stdout",
     "output_type": "stream",
     "text": [
      "Optimization terminated successfully.\n",
      "         Current function value: 1.347914\n",
      "         Iterations: 1\n",
      "         Function evaluations: 6\n",
      " final_simplex: (array([[0.09530018, 0.10437384, 0.11331944, 0.19      , 0.18      ],\n",
      "       [0.09530018, 0.10437384, 0.11331944, 0.19      , 0.189     ],\n",
      "       [0.09530018, 0.10437384, 0.11331944, 0.1995    , 0.18      ],\n",
      "       [0.10006519, 0.10437384, 0.11331944, 0.19      , 0.18      ],\n",
      "       [0.09530018, 0.10437384, 0.11898541, 0.19      , 0.18      ],\n",
      "       [0.09530018, 0.10959253, 0.11331944, 0.19      , 0.18      ]]), array([1.34791447, 1.579391  , 1.5834294 , 1.70395078, 1.76220034,\n",
      "       1.81083962]))\n",
      "           fun: 1.3479144729211887\n",
      "       message: 'Optimization terminated successfully.'\n",
      "          nfev: 6\n",
      "           nit: 1\n",
      "        status: 0\n",
      "       success: True\n",
      "             x: array([0.09530018, 0.10437384, 0.11331944, 0.19      , 0.18      ])\n",
      "Concluded: Nelder-Mead\n"
     ]
    },
    {
     "data": {
      "text/plain": [
       "<matplotlib.figure.Figure at 0x7f1b79939a58>"
      ]
     },
     "metadata": {},
     "output_type": "display_data"
    }
   ],
   "source": [
    "method = 'Nelder-Mead'\n",
    "options={'maxiter':50,'disp':True,'xtol':1e-10,'eps':1e-10,\n",
    "         'maxls':80,'gtol':1e-8,'ftol':1e-3}\n",
    "\n",
    "bdt = BDT(3,1,mkt_data)\n",
    "bdt.solve(method=method,options=options)\n",
    "print('Concluded: {}'.format(method))\n"
   ]
  },
  {
   "cell_type": "code",
   "execution_count": null,
   "metadata": {},
   "outputs": [
    {
     "data": {
      "image/png": "[encoded data removed]",
      "text/plain": [
       "<matplotlib.figure.Figure at 0x7f1b794491d0>"
      ]
     },
     "metadata": {},
     "output_type": "display_data"
    }
   ],
   "source": [
    "from scipy.optimize import differential_evolution\n",
    "method = 'diff'\n",
    "options={'maxiter':50,'disp':True,'xtol':1e-10,'eps':1e-10,\n",
    "         'maxls':80,'gtol':1e-8,'ftol':1e-2,'polish':True}\n",
    "bounds = []\n",
    "for i in np.arange(6):\n",
    "    bounds.append((-1,1))\n",
    "\n",
    "bdt = BDT(3,1,mkt_data)\n",
    "bdt.solve(method=method,options=options,bounds=bounds)\n",
    "print('Concluded: {}'.format(method))\n"
   ]
  },
  {
   "cell_type": "markdown",
   "metadata": {},
   "source": [
    "# Ratio between model and market prices"
   ]
  },
  {
   "cell_type": "code",
   "execution_count": 13,
   "metadata": {},
   "outputs": [
    {
     "data": {
      "text/plain": [
       "[<matplotlib.lines.Line2D at 0x7f2ea0ed5128>]"
      ]
     },
     "execution_count": 13,
     "metadata": {},
     "output_type": "execute_result"
    },
    {
     "data": {
      "image/png": "[encoded data removed]",
      "text/plain": [
       "<matplotlib.figure.Figure at 0x7f2ea0e0bcc0>"
      ]
     },
     "metadata": {},
     "output_type": "display_data"
    }
   ],
   "source": [
    "error = []\n",
    "calculated_ps = []\n",
    "for i in bdt.trees.keys():\n",
    "    error.append(bdt.trees[i].p/mkt_data['Price'][i-1])\n",
    "    calculated_ps.append(bdt.trees[i].p)\n",
    "pl.plot(error)"
   ]
  },
  {
   "cell_type": "code",
   "execution_count": 14,
   "metadata": {},
   "outputs": [
    {
     "data": {
      "text/plain": [
       "<matplotlib.legend.Legend at 0x7f2ea0e210b8>"
      ]
     },
     "execution_count": 14,
     "metadata": {},
     "output_type": "execute_result"
    },
    {
     "data": {
      "image/png": "[encoded data removed]",
      "text/plain": [
       "<matplotlib.figure.Figure at 0x7f2ea0f04048>"
      ]
     },
     "metadata": {},
     "output_type": "display_data"
    }
   ],
   "source": [
    "pl.plot(calculated_ps,label='bdt');\n",
    "pl.plot(mkt_data['Price'],label='mkt')\n",
    "pl.legend()"
   ]
  },
  {
   "cell_type": "code",
   "execution_count": 16,
   "metadata": {},
   "outputs": [
    {
     "name": "stdout",
     "output_type": "stream",
     "text": [
      "      fun: 0.0002633099170424857\n",
      " hess_inv: <6x6 LbfgsInvHessProduct with dtype=float64>\n",
      "      jac: array([ 0.01059641,  0.08034279,  0.10264763,  0.        ,  0.20838242,\n",
      "       -0.42449511])\n",
      "  message: b'CONVERGENCE: REL_REDUCTION_OF_F_<=_FACTR*EPSMCH'\n",
      "     nfev: 56\n",
      "      nit: 5\n",
      "   status: 0\n",
      "  success: True\n",
      "        x: array([0.09524487, 0.09238569, 0.09126617, 0.        , 0.19029196,\n",
      "       0.17070096])\n"
     ]
    },
    {
     "data": {
      "text/plain": [
       "<matplotlib.figure.Figure at 0x7f2ea0eb55f8>"
      ]
     },
     "metadata": {},
     "output_type": "display_data"
    }
   ],
   "source": [
    "method = 'L-BFGS-B'\n",
    "options={'maxiter':50,'disp':True,'xtol':1e-10,'eps':1e-10,\n",
    "         'maxls':80,'gtol':1e-8,'ftol':1e-2}\n",
    "bounds = []\n",
    "for i in np.arange(6):\n",
    "    bounds.append((-1,1))\n",
    "\n",
    "bdt = BDT(3,1,mkt_data)\n",
    "bdt.solve(method=method,bounds=bounds,options=options)"
   ]
  }
 ],
 "metadata": {
  "kernelspec": {
   "display_name": "Python 3",
   "language": "python",
   "name": "python3"
  },
  "language_info": {
   "codemirror_mode": {
    "name": "ipython",
    "version": 3
   },
   "file_extension": ".py",
   "mimetype": "text/x-python",
   "name": "python",
   "nbconvert_exporter": "python",
   "pygments_lexer": "ipython3",
   "version": "3.6.4"
  }
 },
 "nbformat": 4,
 "nbformat_minor": 2
}
